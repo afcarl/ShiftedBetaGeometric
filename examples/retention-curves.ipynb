{
 "cells": [
  {
   "cell_type": "code",
   "execution_count": 1,
   "metadata": {
    "collapsed": true
   },
   "outputs": [],
   "source": [
    "from __future__ import print_function\n",
    "from generate_data import simulate_data\n",
    "import pandas as pd\n",
    "from shifted_beta_survival import ShiftedBetaSurvival\n",
    "\n",
    "import matplotlib.pyplot as plt\n",
    "%matplotlib inline\n",
    "import seaborn as sns"
   ]
  },
  {
   "cell_type": "markdown",
   "metadata": {},
   "source": [
    "# Getting Simulated Data"
   ]
  },
  {
   "cell_type": "code",
   "execution_count": 2,
   "metadata": {
    "collapsed": true
   },
   "outputs": [],
   "source": [
    "data = simulate_data(50000)\n",
    "train, test, params = data['train'], data['test'], data['params']"
   ]
  },
  {
   "cell_type": "code",
   "execution_count": 3,
   "metadata": {
    "collapsed": false
   },
   "outputs": [
    {
     "data": {
      "text/html": [
       "<div>\n",
       "<table border=\"1\" class=\"dataframe\">\n",
       "  <thead>\n",
       "    <tr style=\"text-align: right;\">\n",
       "      <th></th>\n",
       "      <th>id</th>\n",
       "      <th>category</th>\n",
       "      <th>counts</th>\n",
       "      <th>numerical</th>\n",
       "      <th>alpha_true</th>\n",
       "      <th>beta_true</th>\n",
       "      <th>age</th>\n",
       "      <th>alive</th>\n",
       "    </tr>\n",
       "  </thead>\n",
       "  <tbody>\n",
       "    <tr>\n",
       "      <th>0</th>\n",
       "      <td>0</td>\n",
       "      <td>cat_b</td>\n",
       "      <td>0</td>\n",
       "      <td>1.486918</td>\n",
       "      <td>1.344507</td>\n",
       "      <td>1.574800</td>\n",
       "      <td>1</td>\n",
       "      <td>0</td>\n",
       "    </tr>\n",
       "    <tr>\n",
       "      <th>1</th>\n",
       "      <td>1</td>\n",
       "      <td>cat_b</td>\n",
       "      <td>1</td>\n",
       "      <td>1.111382</td>\n",
       "      <td>1.231800</td>\n",
       "      <td>1.366600</td>\n",
       "      <td>10</td>\n",
       "      <td>1</td>\n",
       "    </tr>\n",
       "    <tr>\n",
       "      <th>2</th>\n",
       "      <td>2</td>\n",
       "      <td>cat_a</td>\n",
       "      <td>0</td>\n",
       "      <td>0.570045</td>\n",
       "      <td>1.598971</td>\n",
       "      <td>2.125136</td>\n",
       "      <td>1</td>\n",
       "      <td>0</td>\n",
       "    </tr>\n",
       "    <tr>\n",
       "      <th>3</th>\n",
       "      <td>3</td>\n",
       "      <td>cat_a</td>\n",
       "      <td>0</td>\n",
       "      <td>0.996263</td>\n",
       "      <td>1.830555</td>\n",
       "      <td>2.152101</td>\n",
       "      <td>1</td>\n",
       "      <td>0</td>\n",
       "    </tr>\n",
       "    <tr>\n",
       "      <th>4</th>\n",
       "      <td>4</td>\n",
       "      <td>cat_a</td>\n",
       "      <td>0</td>\n",
       "      <td>1.193894</td>\n",
       "      <td>1.901688</td>\n",
       "      <td>2.149457</td>\n",
       "      <td>4</td>\n",
       "      <td>0</td>\n",
       "    </tr>\n",
       "  </tbody>\n",
       "</table>\n",
       "</div>"
      ],
      "text/plain": [
       "   id category  counts  numerical  alpha_true  beta_true  age  alive\n",
       "0   0    cat_b       0   1.486918    1.344507   1.574800    1      0\n",
       "1   1    cat_b       1   1.111382    1.231800   1.366600   10      1\n",
       "2   2    cat_a       0   0.570045    1.598971   2.125136    1      0\n",
       "3   3    cat_a       0   0.996263    1.830555   2.152101    1      0\n",
       "4   4    cat_a       0   1.193894    1.901688   2.149457    4      0"
      ]
     },
     "execution_count": 3,
     "metadata": {},
     "output_type": "execute_result"
    }
   ],
   "source": [
    "train.head()"
   ]
  },
  {
   "cell_type": "code",
   "execution_count": 4,
   "metadata": {
    "collapsed": false
   },
   "outputs": [
    {
     "data": {
      "text/html": [
       "<div>\n",
       "<table border=\"1\" class=\"dataframe\">\n",
       "  <thead>\n",
       "    <tr style=\"text-align: right;\">\n",
       "      <th></th>\n",
       "      <th>counts</th>\n",
       "      <th>numerical</th>\n",
       "      <th>alpha_true</th>\n",
       "      <th>beta_true</th>\n",
       "      <th>age</th>\n",
       "      <th>alive</th>\n",
       "    </tr>\n",
       "    <tr>\n",
       "      <th>category</th>\n",
       "      <th></th>\n",
       "      <th></th>\n",
       "      <th></th>\n",
       "      <th></th>\n",
       "      <th></th>\n",
       "      <th></th>\n",
       "    </tr>\n",
       "  </thead>\n",
       "  <tbody>\n",
       "    <tr>\n",
       "      <th>cat_a</th>\n",
       "      <td>0.255798</td>\n",
       "      <td>1.001347</td>\n",
       "      <td>1.854426</td>\n",
       "      <td>2.087699</td>\n",
       "      <td>2.750000</td>\n",
       "      <td>0.064034</td>\n",
       "    </tr>\n",
       "    <tr>\n",
       "      <th>cat_b</th>\n",
       "      <td>0.257501</td>\n",
       "      <td>0.999257</td>\n",
       "      <td>1.164272</td>\n",
       "      <td>1.511384</td>\n",
       "      <td>3.223130</td>\n",
       "      <td>0.113636</td>\n",
       "    </tr>\n",
       "    <tr>\n",
       "      <th>cat_c</th>\n",
       "      <td>0.239443</td>\n",
       "      <td>1.013674</td>\n",
       "      <td>1.669724</td>\n",
       "      <td>4.702833</td>\n",
       "      <td>4.373081</td>\n",
       "      <td>0.184021</td>\n",
       "    </tr>\n",
       "  </tbody>\n",
       "</table>\n",
       "</div>"
      ],
      "text/plain": [
       "            counts  numerical  alpha_true  beta_true       age     alive\n",
       "category                                                                \n",
       "cat_a     0.255798   1.001347    1.854426   2.087699  2.750000  0.064034\n",
       "cat_b     0.257501   0.999257    1.164272   1.511384  3.223130  0.113636\n",
       "cat_c     0.239443   1.013674    1.669724   4.702833  4.373081  0.184021"
      ]
     },
     "execution_count": 4,
     "metadata": {},
     "output_type": "execute_result"
    }
   ],
   "source": [
    "train.groupby('category').mean().drop('id', axis=1)"
   ]
  },
  {
   "cell_type": "code",
   "execution_count": 5,
   "metadata": {
    "collapsed": false
   },
   "outputs": [
    {
     "data": {
      "text/html": [
       "<div>\n",
       "<table border=\"1\" class=\"dataframe\">\n",
       "  <thead>\n",
       "    <tr style=\"text-align: right;\">\n",
       "      <th></th>\n",
       "      <th>numerical</th>\n",
       "      <th>alpha_true</th>\n",
       "      <th>beta_true</th>\n",
       "      <th>age</th>\n",
       "      <th>alive</th>\n",
       "    </tr>\n",
       "    <tr>\n",
       "      <th>counts</th>\n",
       "      <th></th>\n",
       "      <th></th>\n",
       "      <th></th>\n",
       "      <th></th>\n",
       "      <th></th>\n",
       "    </tr>\n",
       "  </thead>\n",
       "  <tbody>\n",
       "    <tr>\n",
       "      <th>0</th>\n",
       "      <td>1.003021</td>\n",
       "      <td>1.551465</td>\n",
       "      <td>2.406510</td>\n",
       "      <td>3.284314</td>\n",
       "      <td>0.108411</td>\n",
       "    </tr>\n",
       "    <tr>\n",
       "      <th>1</th>\n",
       "      <td>1.000961</td>\n",
       "      <td>1.649296</td>\n",
       "      <td>2.047841</td>\n",
       "      <td>2.918717</td>\n",
       "      <td>0.082090</td>\n",
       "    </tr>\n",
       "    <tr>\n",
       "      <th>2</th>\n",
       "      <td>0.997661</td>\n",
       "      <td>1.768826</td>\n",
       "      <td>1.774981</td>\n",
       "      <td>2.478477</td>\n",
       "      <td>0.057947</td>\n",
       "    </tr>\n",
       "    <tr>\n",
       "      <th>3</th>\n",
       "      <td>1.074961</td>\n",
       "      <td>1.971068</td>\n",
       "      <td>1.420142</td>\n",
       "      <td>2.160714</td>\n",
       "      <td>0.017857</td>\n",
       "    </tr>\n",
       "    <tr>\n",
       "      <th>4</th>\n",
       "      <td>1.144350</td>\n",
       "      <td>1.505985</td>\n",
       "      <td>0.867915</td>\n",
       "      <td>1.000000</td>\n",
       "      <td>0.000000</td>\n",
       "    </tr>\n",
       "  </tbody>\n",
       "</table>\n",
       "</div>"
      ],
      "text/plain": [
       "        numerical  alpha_true  beta_true       age     alive\n",
       "counts                                                      \n",
       "0        1.003021    1.551465   2.406510  3.284314  0.108411\n",
       "1        1.000961    1.649296   2.047841  2.918717  0.082090\n",
       "2        0.997661    1.768826   1.774981  2.478477  0.057947\n",
       "3        1.074961    1.971068   1.420142  2.160714  0.017857\n",
       "4        1.144350    1.505985   0.867915  1.000000  0.000000"
      ]
     },
     "execution_count": 5,
     "metadata": {},
     "output_type": "execute_result"
    }
   ],
   "source": [
    "train.groupby('counts').mean().drop('id', axis=1)"
   ]
  },
  {
   "cell_type": "code",
   "execution_count": 6,
   "metadata": {
    "collapsed": false
   },
   "outputs": [
    {
     "data": {
      "text/html": [
       "<div>\n",
       "<table border=\"1\" class=\"dataframe\">\n",
       "  <thead>\n",
       "    <tr style=\"text-align: right;\">\n",
       "      <th></th>\n",
       "      <th>numerical</th>\n",
       "      <th>alpha_true</th>\n",
       "      <th>beta_true</th>\n",
       "      <th>age</th>\n",
       "      <th>alive</th>\n",
       "    </tr>\n",
       "  </thead>\n",
       "  <tbody>\n",
       "    <tr>\n",
       "      <th>numerical</th>\n",
       "      <td>1.000000</td>\n",
       "      <td>0.580256</td>\n",
       "      <td>0.031246</td>\n",
       "      <td>-0.098951</td>\n",
       "      <td>-0.085040</td>\n",
       "    </tr>\n",
       "    <tr>\n",
       "      <th>alpha_true</th>\n",
       "      <td>0.580256</td>\n",
       "      <td>1.000000</td>\n",
       "      <td>0.276225</td>\n",
       "      <td>-0.104831</td>\n",
       "      <td>-0.098576</td>\n",
       "    </tr>\n",
       "    <tr>\n",
       "      <th>beta_true</th>\n",
       "      <td>0.031246</td>\n",
       "      <td>0.276225</td>\n",
       "      <td>1.000000</td>\n",
       "      <td>0.162600</td>\n",
       "      <td>0.103710</td>\n",
       "    </tr>\n",
       "    <tr>\n",
       "      <th>age</th>\n",
       "      <td>-0.098951</td>\n",
       "      <td>-0.104831</td>\n",
       "      <td>0.162600</td>\n",
       "      <td>1.000000</td>\n",
       "      <td>0.779739</td>\n",
       "    </tr>\n",
       "    <tr>\n",
       "      <th>alive</th>\n",
       "      <td>-0.085040</td>\n",
       "      <td>-0.098576</td>\n",
       "      <td>0.103710</td>\n",
       "      <td>0.779739</td>\n",
       "      <td>1.000000</td>\n",
       "    </tr>\n",
       "  </tbody>\n",
       "</table>\n",
       "</div>"
      ],
      "text/plain": [
       "            numerical  alpha_true  beta_true       age     alive\n",
       "numerical    1.000000    0.580256   0.031246 -0.098951 -0.085040\n",
       "alpha_true   0.580256    1.000000   0.276225 -0.104831 -0.098576\n",
       "beta_true    0.031246    0.276225   1.000000  0.162600  0.103710\n",
       "age         -0.098951   -0.104831   0.162600  1.000000  0.779739\n",
       "alive       -0.085040   -0.098576   0.103710  0.779739  1.000000"
      ]
     },
     "execution_count": 6,
     "metadata": {},
     "output_type": "execute_result"
    }
   ],
   "source": [
    "train[['numerical', 'alpha_true', 'beta_true', 'age', 'alive']].corr()"
   ]
  },
  {
   "cell_type": "markdown",
   "metadata": {},
   "source": [
    " # Creating and Training the Model"
   ]
  },
  {
   "cell_type": "code",
   "execution_count": null,
   "metadata": {
    "collapsed": true
   },
   "outputs": [],
   "source": [
    "# START MODELING\n",
    "# Create the sbs object using all features. Lets keep gamma small and let\n",
    "# the model \"overfit\" if necessary. We have enough data.\n",
    "feature_list = ['category', 'counts', 'numerical']\n",
    "\n",
    "# something\n",
    "sbs = ShiftedBetaSurvival(age='age',\n",
    "                          alive='alive',\n",
    "                          features=feature_list,\n",
    "                          gamma=1e-3,\n",
    "                          verbose=True)"
   ]
  },
  {
   "cell_type": "code",
   "execution_count": null,
   "metadata": {
    "collapsed": false
   },
   "outputs": [],
   "source": [
    "# Train model\n",
    "sbs.fit(train)"
   ]
  },
  {
   "cell_type": "code",
   "execution_count": null,
   "metadata": {
    "collapsed": false
   },
   "outputs": [],
   "source": [
    "sbs.summary()"
   ]
  },
  {
   "cell_type": "code",
   "execution_count": null,
   "metadata": {
    "collapsed": false
   },
   "outputs": [],
   "source": [
    "# Make some predictions\n",
    "pred = pd.concat([test,\n",
    "                  sbs.predict_params(test)], axis=1)"
   ]
  },
  {
   "cell_type": "code",
   "execution_count": null,
   "metadata": {
    "collapsed": false
   },
   "outputs": [],
   "source": [
    "print(\"Mean Absolute Error for Alpha: \"\n",
    "      \"{}\".format((pred['alpha_true'] -\n",
    "                   pred['alpha']).abs().mean()))\n",
    "\n",
    "print(\"Mean Absolute Error for Beta:  \"\n",
    "      \"{}\".format((pred['beta_true'] -\n",
    "                   pred['beta']).abs().mean()))"
   ]
  },
  {
   "cell_type": "markdown",
   "metadata": {},
   "source": [
    "# Visualizing the Hazard Curve"
   ]
  },
  {
   "cell_type": "code",
   "execution_count": null,
   "metadata": {
    "collapsed": true
   },
   "outputs": [],
   "source": [
    "# Predict survival curves\n",
    "harz_raw = sbs.predict_churn(test, age=1, n_periods=24)\n",
    "\n",
    "harz_curve = pd.concat([test[feature_list], \n",
    "                        harz_raw], axis=1)"
   ]
  },
  {
   "cell_type": "code",
   "execution_count": null,
   "metadata": {
    "collapsed": false
   },
   "outputs": [],
   "source": [
    "f, axis = plt.subplots(1, 1, figsize=(16, 8))\n",
    "\n",
    "col_map = {'cat_a': 'b', 'cat_b': 'r', 'cat_c': 'g'}\n",
    "\n",
    "for name, df in harz_curve.groupby('category'):\n",
    "    axis.plot(df.iloc[:, 3:].mean(), alpha=1, c=col_map[name], label=name)\n",
    "\n",
    "plt.legend()"
   ]
  },
  {
   "cell_type": "markdown",
   "metadata": {},
   "source": [
    "# Visualizing the Retention Curve"
   ]
  },
  {
   "cell_type": "code",
   "execution_count": null,
   "metadata": {
    "collapsed": false
   },
   "outputs": [],
   "source": [
    "# Predict survival curves\n",
    "sc_raw = sbs.predict_survival(test, n_periods=24)\n",
    "\n",
    "surv_curv = pd.concat([test[feature_list], \n",
    "                       sc_raw], axis=1)"
   ]
  },
  {
   "cell_type": "code",
   "execution_count": null,
   "metadata": {
    "collapsed": false
   },
   "outputs": [],
   "source": [
    "f, axis = plt.subplots(1, 1, figsize=(16, 8))\n",
    "\n",
    "col_map = {'cat_a': 'b', 'cat_b': 'r', 'cat_c': 'g'}\n",
    "\n",
    "for name, df in surv_curv.groupby('category'):\n",
    "    axis.plot(df.iloc[:, 3:].mean(), alpha=1, c=col_map[name], label=name)\n",
    "        \n",
    "\n",
    "\n",
    "plt.legend()"
   ]
  },
  {
   "cell_type": "markdown",
   "metadata": {},
   "source": [
    "# Life-Time-Value"
   ]
  },
  {
   "cell_type": "markdown",
   "metadata": {},
   "source": [
    "### Initial LTV"
   ]
  },
  {
   "cell_type": "code",
   "execution_count": null,
   "metadata": {
    "collapsed": true
   },
   "outputs": [],
   "source": [
    "ltv_initial = sbs.predict_ltv(test, age=1, alive=1, arpu=10, discount_rate=0.005)"
   ]
  },
  {
   "cell_type": "code",
   "execution_count": null,
   "metadata": {
    "collapsed": true
   },
   "outputs": [],
   "source": [
    "test['ltvi'] = ltv_initial"
   ]
  },
  {
   "cell_type": "markdown",
   "metadata": {},
   "source": [
    "### Residual LTV"
   ]
  },
  {
   "cell_type": "code",
   "execution_count": null,
   "metadata": {
    "collapsed": true
   },
   "outputs": [],
   "source": [
    "ltv_residual = sbs.predict_ltv(test, age=None, alive=None, arpu=10, discount_rate=0.005)"
   ]
  },
  {
   "cell_type": "code",
   "execution_count": null,
   "metadata": {
    "collapsed": false
   },
   "outputs": [],
   "source": [
    "test['ltvr'] = ltv_residual"
   ]
  },
  {
   "cell_type": "markdown",
   "metadata": {},
   "source": [
    "### Relation with number of counts"
   ]
  },
  {
   "cell_type": "code",
   "execution_count": null,
   "metadata": {
    "collapsed": false
   },
   "outputs": [],
   "source": [
    "test.groupby(['counts']).mean()"
   ]
  },
  {
   "cell_type": "markdown",
   "metadata": {},
   "source": [
    "### Correlation with alpha and beta parameters"
   ]
  },
  {
   "cell_type": "code",
   "execution_count": null,
   "metadata": {
    "collapsed": false
   },
   "outputs": [],
   "source": [
    "sns.pairplot(test, vars=['alpha_true', 'beta_true', 'ltvi'], hue='category', diag_kind='kde', size=4)"
   ]
  }
 ],
 "metadata": {
  "kernelspec": {
   "display_name": "Python 2",
   "language": "python",
   "name": "python2"
  },
  "language_info": {
   "codemirror_mode": {
    "name": "ipython",
    "version": 2
   },
   "file_extension": ".py",
   "mimetype": "text/x-python",
   "name": "python",
   "nbconvert_exporter": "python",
   "pygments_lexer": "ipython2",
   "version": "2.7.9"
  }
 },
 "nbformat": 4,
 "nbformat_minor": 0
}
