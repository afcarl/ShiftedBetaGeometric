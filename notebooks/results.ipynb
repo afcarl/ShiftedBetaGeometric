{
 "cells": [
  {
   "cell_type": "code",
   "execution_count": 5,
   "metadata": {
    "collapsed": true
   },
   "outputs": [],
   "source": [
    "import pandas\n",
    "import numpy\n",
    "\n",
    "from math import exp"
   ]
  },
  {
   "cell_type": "code",
   "execution_count": 6,
   "metadata": {
    "collapsed": true
   },
   "outputs": [],
   "source": [
    "araw = \"-0.65870733 -0.00401297  0.02542762 -0.01218088  0.01788079 -0.05666319 0.04655429  0.3572726  -0.36283521\"\n",
    "braw = \"3.22923567  0.01696863 -0.00784449 -0.00488453 -0.00361812  0.02113129 -0.02359292 -0.02371109  0.02107756\"\n",
    "\n",
    "a1e8 = \"-3.62489971e-01  -2.66903591e-08   9.34588231e-08  -3.95918295e-08 1.02343977e-07  -6.13502237e-07   5.47530899e-07   2.97935576e-06 -2.92491669e-06\"\n",
    "b1e8 = \"3.22400090e+00  -1.59558316e-08  -3.52521853e-08  -2.82212274e-08 -7.68424650e-09  -1.94694965e-08   1.11268550e-09   7.00510063e-09 -7.19984257e-08\"\n",
    "\n",
    "a1em2 = \"-0.53172288 -0.32344406 -0.03283013 -0.13913617 -0.05797063 -0.16101657 -0.0141854   0.40346952 -0.48443666\"\n",
    "b1em2 = \"1.52210187  0.23501958  1.00445096  0.32420697  0.44490491  0.53742326 0.48449761  0.83516261  0.83519176\""
   ]
  },
  {
   "cell_type": "code",
   "execution_count": 7,
   "metadata": {
    "collapsed": false
   },
   "outputs": [],
   "source": [
    "def ws(a, b):\n",
    "    return {'wa': [float(astr) for astr in a.split()],\n",
    "            'wb': [float(bstr) for bstr in b.split()]}\n",
    "\n",
    "W = ws(a1em2, b1em2)\n",
    "wa = W['wa']\n",
    "wb = W['wb']"
   ]
  },
  {
   "cell_type": "code",
   "execution_count": 8,
   "metadata": {
    "collapsed": true
   },
   "outputs": [],
   "source": [
    "def get_coeff(index):\n",
    "    \n",
    "    return {'alpha': numpy.exp(numpy.asarray(wa)[index].sum()),\n",
    "            'beta': numpy.exp(numpy.asarray(wb)[index].sum())}"
   ]
  },
  {
   "cell_type": "code",
   "execution_count": 9,
   "metadata": {
    "collapsed": false
   },
   "outputs": [
    {
     "data": {
      "text/plain": [
       "{'alpha': 0.56861425484719619, 'beta': 12.510306567826252}"
      ]
     },
     "execution_count": 9,
     "metadata": {},
     "output_type": "execute_result"
    }
   ],
   "source": [
    "get_coeff([0, 2])"
   ]
  },
  {
   "cell_type": "code",
   "execution_count": 10,
   "metadata": {
    "collapsed": false
   },
   "outputs": [],
   "source": [
    "# Initialize list with t = 0 and t = 1 values\n",
    "def get_stats(alpha, beta, num_periods=120):\n",
    "\n",
    "    p = [None, alpha / (alpha + beta)]\n",
    "    s = [1., 1. - p[1]]\n",
    "\n",
    "    for t in range(2, num_periods + 1):\n",
    "        # Compute latest p value and append\n",
    "        pt = (beta + t - 2.) / (alpha + beta + t - 1.) * p[t - 1]\n",
    "        p.append(pt)\n",
    "\n",
    "        # use the most recent appended p value to keep building s\n",
    "        s.append(s[t - 1] - p[t])\n",
    "        \n",
    "    return p, s"
   ]
  },
  {
   "cell_type": "code",
   "execution_count": 14,
   "metadata": {
    "collapsed": false
   },
   "outputs": [
    {
     "data": {
      "text/plain": [
       "([None,\n",
       "  0.014468050230592361,\n",
       "  0.013979605593117299,\n",
       "  0.013516712275322088,\n",
       "  0.013077577493536042,\n",
       "  0.012660565075041177,\n",
       "  0.012264179182379667,\n",
       "  0.011887049989142678,\n",
       "  0.011527921043167971,\n",
       "  0.01118563809273887,\n",
       "  0.010859139184513981,\n",
       "  0.010547445869690629,\n",
       "  0.010249655378257044],\n",
       " [1.0,\n",
       "  0.98553194976940761,\n",
       "  0.97155234417629033,\n",
       "  0.95803563190096819,\n",
       "  0.94495805440743219,\n",
       "  0.93229748933239098,\n",
       "  0.92003331015001133,\n",
       "  0.90814626016086863,\n",
       "  0.89661833911770061,\n",
       "  0.88543270102496174,\n",
       "  0.87457356184044777,\n",
       "  0.86402611597075718,\n",
       "  0.85377646059250012])"
      ]
     },
     "execution_count": 14,
     "metadata": {},
     "output_type": "execute_result"
    }
   ],
   "source": [
    "get_stats(get_coeff([0, 2, 5, 7])['alpha'], get_coeff([0, 2, 5, 7])['beta'], num_periods=12)"
   ]
  },
  {
   "cell_type": "code",
   "execution_count": null,
   "metadata": {
    "collapsed": true
   },
   "outputs": [],
   "source": []
  }
 ],
 "metadata": {
  "kernelspec": {
   "display_name": "Python 2",
   "language": "python",
   "name": "python2"
  },
  "language_info": {
   "codemirror_mode": {
    "name": "ipython",
    "version": 2
   },
   "file_extension": ".py",
   "mimetype": "text/x-python",
   "name": "python",
   "nbconvert_exporter": "python",
   "pygments_lexer": "ipython2",
   "version": "2.7.9"
  }
 },
 "nbformat": 4,
 "nbformat_minor": 0
}
