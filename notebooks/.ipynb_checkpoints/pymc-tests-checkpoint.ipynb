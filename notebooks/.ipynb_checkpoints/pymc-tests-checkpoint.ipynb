{
 "cells": [
  {
   "cell_type": "code",
   "execution_count": 1,
   "metadata": {
    "collapsed": false
   },
   "outputs": [],
   "source": [
    "import pymc as pm\n",
    "import numpy as np\n",
    "import pandas\n",
    "\n",
    "import matplotlib.pyplot as plt\n",
    "import seaborn as sns\n",
    "%matplotlib inline\n",
    "sns.set_style(\"darkgrid\")"
   ]
  },
  {
   "cell_type": "code",
   "execution_count": null,
   "metadata": {
    "collapsed": true
   },
   "outputs": [],
   "source": [
    "def print_stats(index):\n",
    "    \n",
    "    a = 0.0\n",
    "    b = 0.0\n",
    "    \n",
    "    pname = ''\n",
    "    \n",
    "    for i in index:\n",
    "        a += am[i]\n",
    "        b += bm[i]\n",
    "        \n",
    "        pname += names[i]\n",
    "        pname += '_'\n",
    "        \n",
    "    a = np.exp(a)\n",
    "    b = np.exp(b)\n",
    "    \n",
    "    print '{:15}'.format(pname), a, b, a / (a + b)"
   ]
  },
  {
   "cell_type": "code",
   "execution_count": 2,
   "metadata": {
    "collapsed": false
   },
   "outputs": [],
   "source": [
    "xraw = np.asarray([[1, 0],\n",
    "                      [1, 1],\n",
    "                      [1, 0],\n",
    "                      [1, 0],\n",
    "                      [1, 1]])\n",
    "\n",
    "yraw = np.asarray([3, 2, 4, 3, 1])\n",
    "zraw = np.asarray([1, 1, 0, 0, 1])\n",
    "\n",
    "data = pandas.DataFrame(data=xraw, columns=['c1', 'c2'])\n",
    "data['age'] = yraw\n",
    "data['alive'] = zraw\n",
    "\n",
    "def make_raw_article_data():\n",
    "\n",
    "    highend_lost = np.asarray([0, 131, 257, 347, 407, 449, 483, 509])\n",
    "    regular_lost = np.asarray([0, 369, 532, 618, 674, 711, 738, 759])\n",
    "\n",
    "    # high end guys\n",
    "    data_he = np.zeros((1000, 5), dtype=int)\n",
    "    data_he[:, -2] = 8\n",
    "    data_he[:, 0] = np.arange(data_he.shape[0])\n",
    "\n",
    "    for age in reversed(highend_lost):\n",
    "        data_he[:age, -2] -= 1\n",
    "\n",
    "    # regular end guys\n",
    "    data_re = np.zeros((1000, 5), dtype=int)\n",
    "    data_re[:, -2] = 8\n",
    "    data_re[:, 0] = np.arange(data_re.shape[0], 2 * data_re.shape[0])\n",
    "    data_re[:, 2] = 1\n",
    "\n",
    "    for age in reversed(regular_lost):\n",
    "        data_re[:age, -2] -= 1\n",
    "\n",
    "    data_he[:, -1][data_he[:, -2] == 8] = 1\n",
    "    data_re[:, -1][data_re[:, -2] == 8] = 1\n",
    "\n",
    "    out_data = np.concatenate((data_he, data_re), axis=0)\n",
    "\n",
    "    data = pandas.DataFrame(data=out_data, columns=['id', 'cohort', 'category', 'age', 'alive'])\n",
    "\n",
    "    return data"
   ]
  },
  {
   "cell_type": "code",
   "execution_count": 150,
   "metadata": {
    "collapsed": false
   },
   "outputs": [],
   "source": [
    "data = make_raw_article_data()[['category', 'age', 'alive']]\n",
    "data.insert(1, 'random', np.random.randint(0, 2, (data.shape[0], 1)))\n",
    "\n",
    "x = data[['category', 'random']].values\n",
    "names = ['bias'] + list(data.keys()[:-2])"
   ]
  },
  {
   "cell_type": "code",
   "execution_count": 280,
   "metadata": {
    "collapsed": false
   },
   "outputs": [],
   "source": [
    "# actual fresh data!\n",
    "data = pandas.read_csv('../data/new_data.csv')\n",
    "\n",
    "\n",
    "total_size = 1000\n",
    "index = np.arange(data.shape[0])\n",
    "np.random.shuffle(index)\n",
    "index = index[:total_size]\n",
    "\n",
    "data = data.iloc[index]\n",
    "data.index = np.arange(total_size)\n",
    "\n",
    "data['age'] = data['age'].values.astype(int)\n",
    "data['alive'] = data['alive'].values.astype(int)\n",
    "\n",
    "\n",
    "#x = data.values[:, :-2]#[:, :4]#[['bias', 'freshapp']]\n",
    "\n",
    "#x = data[['creative', 'trades', 'monthly']].values\n",
    "x = data[['monthly', 'creative']].values\n",
    "names = ['bias'] + list(data.keys()[:-2])"
   ]
  },
  {
   "cell_type": "code",
   "execution_count": 151,
   "metadata": {
    "collapsed": false
   },
   "outputs": [],
   "source": [
    "alpha_bias = pm.Normal('alpha_bias', -1, 2, observed=False, size=1)\n",
    "beta_bias = pm.Normal('beta_bias', 1, 2, observed=False, size=1)\n",
    "\n",
    "alpha = pm.Normal('alpha', 0, 10, observed=False, size=x.shape[1])\n",
    "beta = pm.Normal('beta', 0, 10, observed=False, size=x.shape[1])"
   ]
  },
  {
   "cell_type": "code",
   "execution_count": 152,
   "metadata": {
    "collapsed": false
   },
   "outputs": [],
   "source": [
    "@pm.deterministic\n",
    "def _recursive_retention_stats(alpha=alpha, \n",
    "                               beta=beta,\n",
    "                               alpha_bias=alpha_bias, \n",
    "                               beta_bias=beta_bias,\n",
    "                               num_periods=data.age.values,\n",
    "                               features=x):\n",
    "    \"\"\"\n",
    "    A function to calculate the expected probabilities recursively.\n",
    "    Using equation 7 from [1] and the alpha and beta coefficients\n",
    "    obtained by training this model, it computes P(T = t) recursively,\n",
    "    returning a list with all values.\n",
    "    Survival function recursive calculation. Using equation 7 from [1]\n",
    "    and the alpha and beta coefficients obtained by training this\n",
    "    model, it computes S(T = t) recursively, returning a list of all\n",
    "    computed values.. To do so it must first invoke the function\n",
    "    P_T_is_t calculate the monthly churn rates for the given time\n",
    "    window, and then use it to compute the survival curve recursively.\n",
    "    :param alpha: float\n",
    "        The distribution for the alpha parameter.\n",
    "    :param beta: float\n",
    "        The distribution for the beta parameter.\n",
    "    :param num_periods: Int\n",
    "        The number of periods for which the probability of churning\n",
    "        should be computed.\n",
    "    :return: (list, list)\n",
    "        A list with probability of churning for all periods from month\n",
    "        zero to num_periods.\n",
    "    \"\"\"\n",
    "    stats = np.zeros((num_periods.shape[0], 2))\n",
    "    \n",
    "    for entry, vals in enumerate(zip(num_periods, features)):\n",
    "        \n",
    "        period, predictors = vals\n",
    "        \n",
    "        # get coeffs from combinaitons\n",
    "        a = np.exp(sum(alpha_bias + predictors * alpha))\n",
    "        b = np.exp(sum(beta_bias + predictors * beta))\n",
    "        \n",
    "        p_old = None\n",
    "        p_new = a / (a + b)\n",
    "        \n",
    "        s_old = 1\n",
    "        s_new = s_old - p_new\n",
    "\n",
    "        for t in range(2, period + 1):\n",
    "            \n",
    "            # New values for old values\n",
    "            p_old = p_new\n",
    "            s_old = s_new\n",
    "            \n",
    "            # Compute latest p value and append\n",
    "            p_new = (b + t - 2.) / (a + b + t - 1.) * p_old\n",
    "\n",
    "            # use the most recent appended p value to keep building s\n",
    "            s_new = s_old - p_new\n",
    "\n",
    "        stats[entry][0] = p_new\n",
    "        stats[entry][1] = s_old\n",
    "\n",
    "    return stats"
   ]
  },
  {
   "cell_type": "code",
   "execution_count": 153,
   "metadata": {
    "collapsed": false
   },
   "outputs": [],
   "source": [
    "global_bool_mask = np.zeros((x.shape[0], 2), dtype=bool)\n",
    "global_bool_mask[:, 1][data.alive.values==1] = True\n",
    "global_bool_mask[:, 0][data.alive.values==0] = True"
   ]
  },
  {
   "cell_type": "code",
   "execution_count": 154,
   "metadata": {
    "collapsed": false
   },
   "outputs": [],
   "source": [
    "@pm.observed\n",
    "def retention_rates(stats=_recursive_retention_stats,\n",
    "                    value=data.alive.values):\n",
    "    \n",
    "    def logp(stats, value):\n",
    "\n",
    "        #bool_mask = np.zeros(stats.shape, dtype=bool)\n",
    "        #bool_mask[:, 1][value==1] = True\n",
    "        #bool_mask[:, 0][value==0] = True\n",
    "        \n",
    "        return np.log(stats[global_bool_mask]).sum()"
   ]
  },
  {
   "cell_type": "code",
   "execution_count": 177,
   "metadata": {
    "collapsed": false
   },
   "outputs": [],
   "source": [
    "model = pm.Model([alpha, beta, alpha_bias, beta_bias, \n",
    "                  _recursive_retention_stats, retention_rates])\n",
    "mcmc = pm.MCMC(model)"
   ]
  },
  {
   "cell_type": "code",
   "execution_count": null,
   "metadata": {
    "collapsed": false
   },
   "outputs": [
    {
     "name": "stdout",
     "output_type": "stream",
     "text": [
      " [                  0%                  ] 29 of 50000 complete in 4.2 sec"
     ]
    }
   ],
   "source": [
    "mcmc.sample(5e4, 1e3, thin=2)"
   ]
  },
  {
   "cell_type": "code",
   "execution_count": null,
   "metadata": {
    "collapsed": false
   },
   "outputs": [],
   "source": [
    "posteriors = [mcmc.trace('alpha_bias')[:][:, 0], ]\n",
    "for i in range(x.shape[1]):\n",
    "    posteriors.append(mcmc.trace('alpha')[:][:,i])\n",
    "    \n",
    "fig = plt.figure(figsize=(15, 10))\n",
    "for posterior, name in zip(posteriors, names):\n",
    "    sns.kdeplot(posterior, shade=True, label=name)"
   ]
  },
  {
   "cell_type": "code",
   "execution_count": null,
   "metadata": {
    "collapsed": false
   },
   "outputs": [],
   "source": [
    "posteriors = [mcmc.trace('beta_bias')[:][:, 0], ]\n",
    "for i in range(x.shape[1]):\n",
    "    posteriors.append(mcmc.trace('beta')[:][:,i])\n",
    "    \n",
    "fig = plt.figure(figsize=(15, 10))\n",
    "for posterior, name in zip(posteriors, names):\n",
    "    sns.kdeplot(posterior, shade=True, label=name)"
   ]
  },
  {
   "cell_type": "code",
   "execution_count": null,
   "metadata": {
    "collapsed": false
   },
   "outputs": [],
   "source": [
    "am = np.concatenate((np.percentile(mcmc.trace('alpha_bias')[:], q=50, axis=0), \n",
    "                     np.percentile(mcmc.trace('alpha')[:], q=50, axis=0)))\n",
    "bm = np.concatenate((np.percentile(mcmc.trace('beta_bias')[:], q=50, axis=0), \n",
    "                     np.percentile(mcmc.trace('beta')[:], q=50, axis=0)))"
   ]
  },
  {
   "cell_type": "code",
   "execution_count": null,
   "metadata": {
    "collapsed": false
   },
   "outputs": [],
   "source": [
    "print am\n",
    "print bm"
   ]
  },
  {
   "cell_type": "code",
   "execution_count": null,
   "metadata": {
    "collapsed": false
   },
   "outputs": [],
   "source": [
    "print_stats([0])\n",
    "for i in range(1, len(am)):\n",
    "    print_stats([0, i])"
   ]
  },
  {
   "cell_type": "code",
   "execution_count": null,
   "metadata": {
    "collapsed": false
   },
   "outputs": [],
   "source": [
    "posteriors = [np.exp(mcmc.trace('alpha_bias')[:][:, 0]), ]\n",
    "\n",
    "for i in range(x.shape[1]):\n",
    "    posteriors.append(np.exp(mcmc.trace('alpha_bias')[:][:, 0] + mcmc.trace('alpha')[:][:,i])\n",
    "                      )\n",
    "    \n",
    "fig = plt.figure(figsize=(15, 10))\n",
    "for posterior, name in zip(posteriors, names):\n",
    "    sns.kdeplot(posterior, shade=True, label=name)"
   ]
  },
  {
   "cell_type": "code",
   "execution_count": null,
   "metadata": {
    "collapsed": false
   },
   "outputs": [],
   "source": [
    "posteriors = [np.exp(mcmc.trace('beta_bias')[:][:, 0]), ]\n",
    "\n",
    "for i in range(x.shape[1]):\n",
    "    posteriors.append(np.exp(mcmc.trace('beta_bias')[:][:, 0] + mcmc.trace('beta')[:][:,i])\n",
    "                      )\n",
    "    \n",
    "fig = plt.figure(figsize=(15, 10))\n",
    "for posterior, name in zip(posteriors, names):\n",
    "    sns.kdeplot(posterior, shade=True, label=name)"
   ]
  },
  {
   "cell_type": "code",
   "execution_count": null,
   "metadata": {
    "collapsed": true
   },
   "outputs": [],
   "source": []
  }
 ],
 "metadata": {
  "kernelspec": {
   "display_name": "Python 2",
   "language": "python",
   "name": "python2"
  },
  "language_info": {
   "codemirror_mode": {
    "name": "ipython",
    "version": 2
   },
   "file_extension": ".py",
   "mimetype": "text/x-python",
   "name": "python",
   "nbconvert_exporter": "python",
   "pygments_lexer": "ipython2",
   "version": "2.7.9"
  }
 },
 "nbformat": 4,
 "nbformat_minor": 0
}
