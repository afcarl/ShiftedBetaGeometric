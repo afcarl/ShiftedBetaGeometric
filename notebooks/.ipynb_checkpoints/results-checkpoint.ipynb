{
 "cells": [
  {
   "cell_type": "code",
   "execution_count": 11,
   "metadata": {
    "collapsed": true
   },
   "outputs": [],
   "source": [
    "import pandas\n",
    "import numpy\n",
    "\n",
    "from math import exp"
   ]
  },
  {
   "cell_type": "code",
   "execution_count": 35,
   "metadata": {
    "collapsed": true
   },
   "outputs": [],
   "source": [
    "araw = \"-0.65870733 -0.00401297  0.02542762 -0.01218088  0.01788079 -0.05666319 0.04655429  0.3572726  -0.36283521\"\n",
    "braw = \"3.22923567  0.01696863 -0.00784449 -0.00488453 -0.00361812  0.02113129 -0.02359292 -0.02371109  0.02107756\"\n",
    "\n",
    "a1e8 = \"-3.62489971e-01  -2.66903591e-08   9.34588231e-08  -3.95918295e-08 1.02343977e-07  -6.13502237e-07   5.47530899e-07   2.97935576e-06 -2.92491669e-06\"\n",
    "b1e8 = \"3.22400090e+00  -1.59558316e-08  -3.52521853e-08  -2.82212274e-08 -7.68424650e-09  -1.94694965e-08   1.11268550e-09   7.00510063e-09 -7.19984257e-08\""
   ]
  },
  {
   "cell_type": "code",
   "execution_count": 36,
   "metadata": {
    "collapsed": false
   },
   "outputs": [],
   "source": [
    "def ws(a, b):\n",
    "    return {'wa': [float(astr) for astr in a.split()],\n",
    "            'wb': [float(bstr) for bstr in b.split()]}\n",
    "\n",
    "W = ws(a1e8, b1e8)\n",
    "wa = W['wa']\n",
    "wb = W['wb']"
   ]
  },
  {
   "cell_type": "code",
   "execution_count": 37,
   "metadata": {
    "collapsed": true
   },
   "outputs": [],
   "source": [
    "def get_coeff(index):\n",
    "    \n",
    "    return {'alpha': numpy.exp(numpy.asarray(wa)[index].sum()),\n",
    "            'beta': numpy.exp(numpy.asarray(wb)[index].sum())}"
   ]
  },
  {
   "cell_type": "code",
   "execution_count": 38,
   "metadata": {
    "collapsed": false
   },
   "outputs": [
    {
     "data": {
      "text/plain": [
       "{'alpha': 0.69594135828073012, 'beta': 25.128454884025462}"
      ]
     },
     "execution_count": 38,
     "metadata": {},
     "output_type": "execute_result"
    }
   ],
   "source": [
    "get_coeff([0, 2])"
   ]
  },
  {
   "cell_type": "code",
   "execution_count": 39,
   "metadata": {
    "collapsed": false
   },
   "outputs": [],
   "source": [
    "# Initialize list with t = 0 and t = 1 values\n",
    "def get_stats(alpha, beta, num_periods=120):\n",
    "\n",
    "    p = [None, alpha / (alpha + beta)]\n",
    "    s = [1., 1. - p[1]]\n",
    "\n",
    "    for t in range(2, num_periods + 1):\n",
    "        # Compute latest p value and append\n",
    "        pt = (beta + t - 2.) / (alpha + beta + t - 1.) * p[t - 1]\n",
    "        p.append(pt)\n",
    "\n",
    "        # use the most recent appended p value to keep building s\n",
    "        s.append(s[t - 1] - p[t])\n",
    "        \n",
    "    return p, s"
   ]
  },
  {
   "cell_type": "code",
   "execution_count": 40,
   "metadata": {
    "collapsed": false
   },
   "outputs": [
    {
     "data": {
      "text/plain": [
       "([None,\n",
       "  0.026948984879267033,\n",
       "  0.025245166658327201,\n",
       "  0.02370643355765777,\n",
       "  0.022311617921353052,\n",
       "  0.021042885004822997,\n",
       "  0.019885117096813586,\n",
       "  0.018825427223861404,\n",
       "  0.017852772055548468,\n",
       "  0.016957641439761969,\n",
       "  0.01613180763327882,\n",
       "  0.015368121403684728,\n",
       "  0.014660345206974075],\n",
       " [1.0,\n",
       "  0.973051015120733,\n",
       "  0.94780584846240579,\n",
       "  0.92409941490474801,\n",
       "  0.90178779698339495,\n",
       "  0.88074491197857196,\n",
       "  0.86085979488175834,\n",
       "  0.84203436765789696,\n",
       "  0.82418159560234849,\n",
       "  0.80722395416258652,\n",
       "  0.7910921465293077,\n",
       "  0.775724025125623,\n",
       "  0.76106367991864887])"
      ]
     },
     "execution_count": 40,
     "metadata": {},
     "output_type": "execute_result"
    }
   ],
   "source": [
    "get_stats(get_coeff([0, 1])['alpha'], get_coeff([0, 1])['beta'], num_periods=12)"
   ]
  },
  {
   "cell_type": "code",
   "execution_count": null,
   "metadata": {
    "collapsed": true
   },
   "outputs": [],
   "source": []
  }
 ],
 "metadata": {
  "kernelspec": {
   "display_name": "Python 2",
   "language": "python",
   "name": "python2"
  },
  "language_info": {
   "codemirror_mode": {
    "name": "ipython",
    "version": 2
   },
   "file_extension": ".py",
   "mimetype": "text/x-python",
   "name": "python",
   "nbconvert_exporter": "python",
   "pygments_lexer": "ipython2",
   "version": "2.7.9"
  }
 },
 "nbformat": 4,
 "nbformat_minor": 0
}
